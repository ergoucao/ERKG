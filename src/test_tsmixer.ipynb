{
 "cells": [
  {
   "cell_type": "code",
   "execution_count": 2,
   "metadata": {},
   "outputs": [],
   "source": [
    "from transformers import PatchTSMixerForPrediction, PatchTSMixerConfig\n",
    "import torch\n",
    "\n",
    "config = PatchTSMixerConfig(context_length = 336, prediction_length = 96)\n",
    "model = PatchTSMixerForPrediction(PatchTSMixerConfig(context_length = 336, prediction_length = 96))\n",
    "\n",
    "input=torch.randn(128,336,23)\n",
    "output=torch.randn(128,96,23)"
   ]
  },
  {
   "cell_type": "code",
   "execution_count": 6,
   "metadata": {},
   "outputs": [
    {
     "data": {
      "text/plain": [
       "torch.Size([128, 96, 23])"
      ]
     },
     "execution_count": 6,
     "metadata": {},
     "output_type": "execute_result"
    }
   ],
   "source": [
    "model(input).prediction_outputs.shape"
   ]
  },
  {
   "cell_type": "code",
   "execution_count": 11,
   "metadata": {},
   "outputs": [],
   "source": [
    "\n",
    "output=torch.randn(128,96,23)"
   ]
  }
 ],
 "metadata": {
  "kernelspec": {
   "display_name": "p4tsf",
   "language": "python",
   "name": "python3"
  },
  "language_info": {
   "codemirror_mode": {
    "name": "ipython",
    "version": 3
   },
   "file_extension": ".py",
   "mimetype": "text/x-python",
   "name": "python",
   "nbconvert_exporter": "python",
   "pygments_lexer": "ipython3",
   "version": "3.11.4"
  }
 },
 "nbformat": 4,
 "nbformat_minor": 2
}
